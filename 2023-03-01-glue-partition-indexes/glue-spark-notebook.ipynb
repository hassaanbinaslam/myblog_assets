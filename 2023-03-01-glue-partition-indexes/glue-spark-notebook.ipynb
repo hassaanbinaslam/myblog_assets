{
	"metadata": {
		"kernelspec": {
			"display_name": "Glue PySpark",
			"language": "python",
			"name": "glue_pyspark"
		},
		"language_info": {
			"codemirror_mode": {
				"name": "python",
				"version": 3
			},
			"file_extension": ".py",
			"mimetype": "text/x-python",
			"name": "Python_Glue_Session",
			"pygments_lexer": "python3"
		}
	},
	"nbformat_minor": 4,
	"nbformat": 4,
	"cells": [
		{
			"cell_type": "markdown",
			"source": "\n# Glue Studio Notebook\nYou are now running a **Glue Studio** notebook; before you can start using your notebook you *must* start an interactive session.\n\n## Available Magics\n|          Magic              |   Type       |                                                                        Description                                                                        |\n|-----------------------------|--------------|-----------------------------------------------------------------------------------------------------------------------------------------------------------|\n| %%configure                 |  Dictionary  |  A json-formatted dictionary consisting of all configuration parameters for a session. Each parameter can be specified here or through individual magics. |\n| %profile                    |  String      |  Specify a profile in your aws configuration to use as the credentials provider.                                                                          |\n| %iam_role                   |  String      |  Specify an IAM role to execute your session with.                                                                                                        |\n| %region                     |  String      |  Specify the AWS region in which to initialize a session                                                                                                  |\n| %session_id                 |  String      |  Returns the session ID for the running session.                                                                                                          |\n| %connections                |  List        |  Specify a comma separated list of connections to use in the session.                                                                                     |\n| %additional_python_modules  |  List        |  Comma separated list of pip packages, s3 paths or private pip arguments.                                                                                 |\n| %extra_py_files             |  List        |  Comma separated list of additional Python files from S3.                                                                                                 |\n| %extra_jars                 |  List        |  Comma separated list of additional Jars to include in the cluster.                                                                                       |\n| %number_of_workers          |  Integer     |  The number of workers of a defined worker_type that are allocated when a job runs. worker_type must be set too.                                          |\n| %worker_type                |  String      |  Standard, G.1X, *or* G.2X. number_of_workers must be set too. Default is G.1X                                                                            |\n| %glue_version               |  String      |  The version of Glue to be used by this session. Currently, the only valid options are 2.0 and 3.0 (eg: %glue_version 2.0)                                |\n| %security_config            |  String      |  Define a security configuration to be used with this session.                                                                                            |\n| %sql                        |  String      |  Run SQL code. All lines after the initial %%sql magic will be passed as part of the SQL code.                                                            |\n| %streaming                  |  String      |  Changes the session type to Glue Streaming.                                                                                                              |\n| %etl                        |  String      |   Changes the session type to Glue ETL.                                                                                                                   |\n| %status                     |              |  Returns the status of the current Glue session including its duration, configuration and executing user / role.                                          |\n| %stop_session               |              |  Stops the current session.                                                                                                                               |\n| %list_sessions              |              |  Lists all currently running sessions by name and ID.                                                                                                     |\n| %spark_conf                 |  String      |  Specify custom spark configurations for your session. E.g. %spark_conf spark.serializer=org.apache.spark.serializer.KryoSerializer                       |",
			"metadata": {
				"deletable": false,
				"editable": false,
				"tags": [],
				"trusted": true
			}
		},
		{
			"cell_type": "code",
			"source": "import sys\nfrom awsglue.transforms import *\nfrom awsglue.utils import getResolvedOptions\nfrom pyspark.context import SparkContext\nfrom awsglue.context import GlueContext\nfrom awsglue.job import Job\nimport datetime\n  \nsc = SparkContext.getOrCreate()\nglueContext = GlueContext(sc)\nspark = glueContext.spark_session\njob = Job(glueContext)",
			"metadata": {
				"editable": true,
				"vscode": {
					"languageId": "python_glue_session"
				},
				"trusted": true
			},
			"execution_count": 1,
			"outputs": [
				{
					"name": "stdout",
					"text": "Welcome to the Glue Interactive Sessions Kernel\nFor more information on available magic commands, please type %help in any new cell.\n\nPlease view our Getting Started page to access the most up-to-date information on the Interactive Sessions kernel: https://docs.aws.amazon.com/glue/latest/dg/interactive-sessions.html\nInstalled kernel version: 0.37.0 \nAuthenticating with environment variables and user-defined glue_role_arn: arn:aws:iam::801598032724:role/AWSGlueServiceRole-glueworkshop\nTrying to create a Glue session for the kernel.\nWorker Type: G.1X\nNumber of Workers: 5\nSession ID: 7fd876dd-fa4a-4ee7-acf8-8caabedcbe4f\nJob Type: glueetl\nApplying the following default arguments:\n--glue_kernel_version 0.37.0\n--enable-glue-datacatalog true\nWaiting for session 7fd876dd-fa4a-4ee7-acf8-8caabedcbe4f to get into ready status...\nSession 7fd876dd-fa4a-4ee7-acf8-8caabedcbe4f has been created.\n\n",
					"output_type": "stream"
				}
			]
		},
		{
			"cell_type": "code",
			"source": "start = datetime.datetime.now()\n\n#QUERY ON TOP OF THE NON-INDEXED TABLE\nspark.sql(\"select count(*) from partition_index_glueworkshop.without_index_syncstreamingdata where customer = 2 and visityearmonth = 199210\").show()\n\nend = datetime.datetime.now()\nq1_total_time = end - start\n                 \n#PRINTING THE QUERY WALL TIME\nprint('Query 1 Total Execution Time: %s seconds' % q1_total_time )",
			"metadata": {
				"vscode": {
					"languageId": "python_glue_session"
				},
				"trusted": true
			},
			"execution_count": 2,
			"outputs": [
				{
					"name": "stdout",
					"text": "+--------+\n|count(1)|\n+--------+\n| 7542705|\n+--------+\n\nQuery 1 Total Execution Time: 0:00:32.891521 seconds\n",
					"output_type": "stream"
				}
			]
		},
		{
			"cell_type": "code",
			"source": "start = datetime.datetime.now()\n\n#QUERY ON TOP OF THE INDEXED TABLE\nspark.sql(\"select count(*) from partition_index_glueworkshop.with_index_syncstreamingdata where customer = 2 and visityearmonth = 199210\").show()\n\nend = datetime.datetime.now()\n\nq2_total_time = end - start\n\n#PRINTING THE QUERY WALL TIME\nprint('Query 2 Total Execution Time: %s seconds' % q2_total_time )",
			"metadata": {
				"vscode": {
					"languageId": "python_glue_session"
				},
				"trusted": true
			},
			"execution_count": 3,
			"outputs": [
				{
					"name": "stdout",
					"text": "+--------+\n|count(1)|\n+--------+\n| 7542705|\n+--------+\n\nQuery 2 Total Execution Time: 0:00:10.747662 seconds\n",
					"output_type": "stream"
				}
			]
		},
		{
			"cell_type": "code",
			"source": "q_diff = q1_total_time - q2_total_time\n\nprint('Difference between queries\\' execution time: %s'  % q_diff.total_seconds())",
			"metadata": {
				"vscode": {
					"languageId": "python_glue_session"
				},
				"trusted": true
			},
			"execution_count": 4,
			"outputs": [
				{
					"name": "stdout",
					"text": "Difference between queries' execution time: 22.143859\n",
					"output_type": "stream"
				}
			]
		},
		{
			"cell_type": "code",
			"source": "",
			"metadata": {
				"vscode": {
					"languageId": "python_glue_session"
				}
			},
			"execution_count": null,
			"outputs": []
		}
	]
}